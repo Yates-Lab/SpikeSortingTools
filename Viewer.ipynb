{
 "cells": [
  {
   "cell_type": "code",
   "execution_count": 1,
   "metadata": {},
   "outputs": [],
   "source": [
    "import spikeinterface as si\n",
    "import spikeinterface.extractors as se\n",
    "import spikeinterface.widgets as sw\n",
    "import matplotlib.pyplot as plt\n",
    "%matplotlib widget"
   ]
  },
  {
   "cell_type": "code",
   "execution_count": 2,
   "metadata": {},
   "outputs": [
    {
     "name": "stderr",
     "output_type": "stream",
     "text": [
      "/home/huklab/anaconda3/envs/spikeinterface/lib/python3.12/site-packages/spikeinterface/core/binaryrecordingextractor.py:76: UserWarning: `num_chan` is to be deprecated as of version 0.100, please use `num_channels` instead\n",
      "  warnings.warn(\"`num_chan` is to be deprecated as of version 0.100, please use `num_channels` instead\")\n"
     ]
    }
   ],
   "source": [
    "# List of file paths to load\n",
    "file1=   \"/home/huklab/Documents/SpikeSorting/Working/Rocky/20240707/catgt_Rocky20240707_V1V2_g0/Rocky20240707_V1V2_g0_imec1/Rocky20240707_V1V2_g0_tcat.imec1.ap.bin\"\n",
    "# Load recording 1, which is a .bin file from catGT\n",
    "recording1 = se.read_binary(file1, sampling_frequency=30000, num_chan=385, dtype='int16')\n"
   ]
  },
  {
   "cell_type": "code",
   "execution_count": 3,
   "id": "96093459",
   "metadata": {},
   "outputs": [
    {
     "name": "stderr",
     "output_type": "stream",
     "text": [
      "/tmp/ipykernel_5842/3505810267.py:3: DeprecationWarning: load_extractor() is deprecated and will be removed in the future. Please use load() instead.\n",
      "  recording2 = si.core.load_extractor(file2)#, sampling_frequency=30000, num_chan=384, dtype='int16')\n"
     ]
    }
   ],
   "source": [
    "file2= \"/home/huklab/Documents/RyanSorting/SpikeSortingTools/pipeline_results/preprocessed_recording\"\n",
    "# Load recording 2, which is a traces segment from the preprocessed recording\n",
    "recording2 = si.core.load_extractor(file2)#, sampling_frequency=30000, num_chan=384, dtype='int16')"
   ]
  },
  {
   "cell_type": "code",
   "execution_count": 4,
   "id": "accf715c",
   "metadata": {},
   "outputs": [
    {
     "data": {
      "application/vnd.jupyter.widget-view+json": {
       "model_id": "08975657d24a4b8db3f9b9902dce2751",
       "version_major": 2,
       "version_minor": 0
      },
      "text/plain": [
       "AppLayout(children=(TimeSlider(children=(Dropdown(description='segment', options=(0,), value=0), Button(icon='…"
      ]
     },
     "metadata": {},
     "output_type": "display_data"
    },
    {
     "data": {
      "text/plain": [
       "<spikeinterface.widgets.traces.TracesWidget at 0x7259882fa240>"
      ]
     },
     "execution_count": 4,
     "metadata": {},
     "output_type": "execute_result"
    }
   ],
   "source": [
    "# Plot recordings for comparison, CATGT on top\n",
    "sw.plot_traces(recording1,backend='ipywidgets')\n",
    "\n"
   ]
  },
  {
   "cell_type": "code",
   "execution_count": 5,
   "id": "193d95a3",
   "metadata": {},
   "outputs": [
    {
     "data": {
      "application/vnd.jupyter.widget-view+json": {
       "model_id": "5e1a7fb0f6364ed2a4f008d752a45e9c",
       "version_major": 2,
       "version_minor": 0
      },
      "text/plain": [
       "AppLayout(children=(TimeSlider(children=(Dropdown(description='segment', options=(0,), value=0), Button(icon='…"
      ]
     },
     "metadata": {},
     "output_type": "display_data"
    },
    {
     "data": {
      "text/plain": [
       "<spikeinterface.widgets.traces.TracesWidget at 0x72598815ecc0>"
      ]
     },
     "execution_count": 5,
     "metadata": {},
     "output_type": "execute_result"
    }
   ],
   "source": [
    "sw.plot_traces(recording2,backend='ipywidgets')"
   ]
  }
 ],
 "metadata": {
  "kernelspec": {
   "display_name": "spikeinterface",
   "language": "python",
   "name": "python3"
  },
  "language_info": {
   "codemirror_mode": {
    "name": "ipython",
    "version": 3
   },
   "file_extension": ".py",
   "mimetype": "text/x-python",
   "name": "python",
   "nbconvert_exporter": "python",
   "pygments_lexer": "ipython3",
   "version": "3.12.3"
  }
 },
 "nbformat": 4,
 "nbformat_minor": 5
}
